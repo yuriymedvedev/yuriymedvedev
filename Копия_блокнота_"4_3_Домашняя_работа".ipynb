{
  "nbformat": 4,
  "nbformat_minor": 0,
  "metadata": {
    "colab": {
      "provenance": [],
      "include_colab_link": true
    },
    "kernelspec": {
      "name": "python3",
      "display_name": "Python 3"
    },
    "language_info": {
      "name": "python"
    }
  },
  "cells": [
    {
      "cell_type": "markdown",
      "metadata": {
        "id": "view-in-github",
        "colab_type": "text"
      },
      "source": [
        "<a href=\"https://colab.research.google.com/github/yuriymedvedev/yuriymedvedev/blob/main/%D0%9A%D0%BE%D0%BF%D0%B8%D1%8F_%D0%B1%D0%BB%D0%BE%D0%BA%D0%BD%D0%BE%D1%82%D0%B0_%224_3_%D0%94%D0%BE%D0%BC%D0%B0%D1%88%D0%BD%D1%8F%D1%8F_%D1%80%D0%B0%D0%B1%D0%BE%D1%82%D0%B0%22.ipynb\" target=\"_parent\"><img src=\"https://colab.research.google.com/assets/colab-badge.svg\" alt=\"Open In Colab\"/></a>"
      ]
    },
    {
      "cell_type": "markdown",
      "source": [
        "**Навигация по уроку**\n",
        "\n",
        "1. [ Функции. Классы и объекты. Програмные модули](https://colab.research.google.com/drive/1LtSAdLzWIP-xTADXIktKF9yxsh0ioEqN#scrollTo=O0dFTIuYGKI4)\n",
        "2. [Практика кода](https://colab.research.google.com/drive/1GblqLwJKMaNBV4cIyrbQqt7Rsf-7Bbx7)\n",
        "3. Домашняя работа"
      ],
      "metadata": {
        "id": "8LIWrmOPjBO6"
      }
    },
    {
      "cell_type": "markdown",
      "source": [
        "Для прохождения урока необходимо решить минимум 2 задачи. Желаем удачи!"
      ],
      "metadata": {
        "id": "XpMXr5-w9Csf"
      }
    },
    {
      "cell_type": "markdown",
      "source": [
        "## Задача 1. Случайный номерной знак"
      ],
      "metadata": {
        "id": "Bh5tu_5BH-rG"
      }
    },
    {
      "cell_type": "markdown",
      "source": [
        "**Условие.** Представьте, что в вашем регионе устаревшим является формат номерных автомобильных знаков из трех букв, следом за которыми идут три цифры. Когда все номера такого шаблона закончились, было решено обновить формат, поставив в начало четыре цифры, а за ними три буквы.\n",
        "Напишите функцию, которая будет генерировать случайный номерной знак. При этом номера в старом и новом форматах должны создаваться примерно с одинаковой вероятностью. В основной программе нужно сгенерировать и вывести на экран случайный номерной знак."
      ],
      "metadata": {
        "id": "pLn92q_iLp_k"
      }
    },
    {
      "cell_type": "code",
      "execution_count": null,
      "metadata": {
        "id": "El4o9_QWeq78",
        "outputId": "f676f090-eb52-46f8-915b-63468f1216c8",
        "colab": {
          "base_uri": "https://localhost:8080/"
        }
      },
      "outputs": [
        {
          "output_type": "stream",
          "name": "stdout",
          "text": [
            "у095ях814\n"
          ]
        }
      ],
      "source": [
        "import random\n",
        "\n",
        "def randomRegisterNumbrs():\n",
        "  russian_alphabet = 'абвгдезиклмнопрстуфхчшэюя'\n",
        "  fletter = ''\n",
        "  number = ''\n",
        "  sletter = ''\n",
        "  region = ''\n",
        "  result = ''\n",
        "\n",
        "  fletter = random.choice(russian_alphabet)\n",
        "\n",
        "  for i in range(3):\n",
        "    number = number + str(random.randint(0,9))\n",
        "    region = region + str(random.randint(0, 9))\n",
        "\n",
        "    if i < 2:\n",
        "      sletter = sletter + random.choice(russian_alphabet)\n",
        "\n",
        "  result = fletter + number + sletter + region\n",
        "  return result\n",
        "\n",
        "print(randomRegisterNumbrs())"
      ]
    },
    {
      "cell_type": "markdown",
      "source": [
        "## Задача 2. Шестнадцатеричные и десятичные числа"
      ],
      "metadata": {
        "id": "I4wpSF3IMHdX"
      }
    },
    {
      "cell_type": "markdown",
      "source": [
        "**Условие.** Напишите две функции с  именами hex2int и  int2hex для конвертации\n",
        "значений из шестнадцатеричной системы счисления (0, 1, 2, 3, 4, 5, 6, 7, 8, 9, A, B, C, D, E и F) в десятичную (по основанию 10) и обратно. Функция hex2int должна принимать на вход строку с единственным символом в  шестнадцатеричной системе и  преобразовывать его в  число от нуля до 15 в десятичной системе, тогда как функция int2hex будет выполнять обратное действие – принимать десятичное число из диапазона от 0 до 15 и возвращать шестнадцатеричный эквивалент. Обе функции должны принимать единственный параметр со входным значением и возвращать преобразованное число. Удостоверьтесь, что функция hex2int корректно обрабатывает буквы в верхнем и нижнем регистрах. Если введенное пользователем значение выходит за допустимые границы, вы должны вывести сообщение об ошибке."
      ],
      "metadata": {
        "id": "mYg_KnVwMStB"
      }
    },
    {
      "cell_type": "code",
      "source": [
        "def hex2int(hex_char):\n",
        "    hex_char = hex_char.lower() # Приводим символ к нижнему регистру\n",
        "    hex_digits = \"0123456789abcdef\"\n",
        "\n",
        "    if hex_char in hex_digits:\n",
        "        return hex_digits.index(hex_char)\n",
        "    else:\n",
        "        raise ValueError(\"Invalid hex character. Please provide a valid hex character (0-9, A-F).\")\n",
        "def int2hex(decimal_num):\n",
        "    if 0 <= decimal_num <= 15:\n",
        "        hex_digits = \"0123456789abcdef\"\n",
        "        return hex_digits[decimal_num]\n",
        "    else:\n",
        "        raise ValueError(\"Invalid decimal number. Please provide a number between 0 and 15.\")\n",
        "\n",
        "\n",
        "try:\n",
        "    print(hex2int('A')) # Вывод: 10\n",
        "    print(hex2int('f')) # Вывод: 15\n",
        "    print(int2hex(10)) # Вывод: 'a'\n",
        "    print(int2hex(15)) # Вывод: 'f'\n",
        "except ValueError as e:\n",
        "    print(e)"
      ],
      "metadata": {
        "id": "j4R38AofMTBX",
        "outputId": "a0c544eb-7054-443f-bc0a-8826a1a1c37d",
        "colab": {
          "base_uri": "https://localhost:8080/"
        }
      },
      "execution_count": null,
      "outputs": [
        {
          "output_type": "stream",
          "name": "stdout",
          "text": [
            "10\n",
            "15\n",
            "a\n",
            "f\n"
          ]
        }
      ]
    },
    {
      "cell_type": "markdown",
      "source": [
        "## Задача 3. Беспилотный автомобиль"
      ],
      "metadata": {
        "id": "RIOKyPjlMZA_"
      }
    },
    {
      "cell_type": "markdown",
      "source": [
        "**Условие.** Это творческая задача. Представьте, что вы проектируете беспилотный автомобиль. Вам необходимо продумать, какими свойствами он обладает и какие действия совершает. Создайте класс беспилотный автомобиль и сохраните его в виде программного модуля. Импортируете класс и инициализируйте новый объект.  "
      ],
      "metadata": {
        "id": "OlVQTKYrMZBA"
      }
    },
    {
      "cell_type": "code",
      "source": [
        "\n",
        "\n",
        "class Car(object):\n",
        "    Name_сlass = 'Беспилотный автомобиль'\n",
        "\n",
        "    def __init__(self, brend, weight, power, batteryCapacity, registerNumber=''):\n",
        "        self.brend = brend  # Марка, модель автомобиля\n",
        "        self.weight = weight  # Вес автомобиля\n",
        "        self.power = power  # Мощность двигателя\n",
        "        self.registerNumber = registerNumber # регистрационный номер\n",
        "        self.batteryCapacity = batteryCapacity # Объем батареи\n",
        "        self.currientChange = batteryCapacity\n",
        "        self.isDriving = False\n",
        "\n",
        "    def start(self):\n",
        "        if self.currientChange > 0:\n",
        "            self.isDriving = True\n",
        "            print(f\"Заряд батареи: {self.currientChange}. Автомобиль: {self.brend} начал поездку\")\n",
        "        else:\n",
        "            print(f\"Батарея пуста. Запуск автомобиля не возможен!\")\n",
        "\n",
        "    def stop(self):\n",
        "        self.isDriving = False\n",
        "        print(f\"Автомобиль: {self.brend} остановил поездку\")\n",
        "\n",
        "    def charge(self, amount):\n",
        "        if self.currientChange + amount > self.batteryCapacity:\n",
        "            self.currientChange = self.batteryCapacity\n",
        "        else:\n",
        "            self.currientChange = self.currientChange + amount\n",
        "\n",
        "        print(f\"Автомобиль заряжен. Состояние батареи: {self.currientChange} kwh\")\n",
        "\n",
        "    def drive (self, distance):\n",
        "        if not self.isDriving:\n",
        "            print(\"Запустите двигатель автомобили\")\n",
        "            return\n",
        "        energyCosumption = 0.2\n",
        "        requiredChange = energyCosumption * distance\n",
        "        if requiredChange <= self.currientChange:\n",
        "            self.currientChange = self.currientChange - requiredChange\n",
        "            print(f\"Автомобиль проедет {distance} km. Необходимо энергии: {requiredChange} kwh. Заряд батареи после поездки: {self.currientChange} kwh\")\n",
        "        else:\n",
        "            print(f\"Заряд на {distance} km не достаточно. Зарядите автомобиль\")\n",
        "\n",
        "\n",
        "\n",
        "\n",
        "\n",
        "\n",
        "\n",
        "\n",
        "\n",
        "\n",
        "\n",
        "\n",
        "\n",
        "\n",
        "\n",
        "\n",
        "\n",
        "\n",
        "\n",
        "\n"
      ],
      "metadata": {
        "id": "U2JxR4KOMZBA"
      },
      "execution_count": null,
      "outputs": []
    },
    {
      "cell_type": "code",
      "source": [
        "from driverlesscar import Car\n",
        "\n",
        "def main():\n",
        "    dc = Car(\"toyota Module Ъ\", 3000, 2000, 2500, \"т943ан124\")\n",
        "    dc.start()\n",
        "    dc.drive(1000)\n",
        "    dc.charge(20)\n",
        "    dc.charge(200)\n",
        "    dc.stop()\n",
        "\n",
        "\n",
        "# Вызываем основную фунуцию, только если файл не импортирован\n",
        "if __name__ == \"__main__\":\n",
        "    main()\n"
      ],
      "metadata": {
        "id": "XNbYCpbkMLAC",
        "outputId": "a3e076e4-2ab1-44ac-fdf2-989316f38c66",
        "colab": {
          "base_uri": "https://localhost:8080/",
          "height": 383
        }
      },
      "execution_count": null,
      "outputs": [
        {
          "output_type": "error",
          "ename": "ModuleNotFoundError",
          "evalue": "No module named 'driverlesscar'",
          "traceback": [
            "\u001b[0;31m---------------------------------------------------------------------------\u001b[0m",
            "\u001b[0;31mModuleNotFoundError\u001b[0m                       Traceback (most recent call last)",
            "\u001b[0;32m<ipython-input-6-a7972c496257>\u001b[0m in \u001b[0;36m<cell line: 1>\u001b[0;34m()\u001b[0m\n\u001b[0;32m----> 1\u001b[0;31m \u001b[0;32mfrom\u001b[0m \u001b[0mdriverlesscar\u001b[0m \u001b[0;32mimport\u001b[0m \u001b[0mCar\u001b[0m\u001b[0;34m\u001b[0m\u001b[0;34m\u001b[0m\u001b[0m\n\u001b[0m\u001b[1;32m      2\u001b[0m \u001b[0;34m\u001b[0m\u001b[0m\n\u001b[1;32m      3\u001b[0m \u001b[0;32mdef\u001b[0m \u001b[0mmain\u001b[0m\u001b[0;34m(\u001b[0m\u001b[0;34m)\u001b[0m\u001b[0;34m:\u001b[0m\u001b[0;34m\u001b[0m\u001b[0;34m\u001b[0m\u001b[0m\n\u001b[1;32m      4\u001b[0m     \u001b[0mdc\u001b[0m \u001b[0;34m=\u001b[0m \u001b[0mCar\u001b[0m\u001b[0;34m(\u001b[0m\u001b[0;34m\"toyota Module Ъ\"\u001b[0m\u001b[0;34m,\u001b[0m \u001b[0;36m3000\u001b[0m\u001b[0;34m,\u001b[0m \u001b[0;36m2000\u001b[0m\u001b[0;34m,\u001b[0m \u001b[0;36m2500\u001b[0m\u001b[0;34m,\u001b[0m \u001b[0;34m\"т943ан124\"\u001b[0m\u001b[0;34m)\u001b[0m\u001b[0;34m\u001b[0m\u001b[0;34m\u001b[0m\u001b[0m\n\u001b[1;32m      5\u001b[0m     \u001b[0mdc\u001b[0m\u001b[0;34m.\u001b[0m\u001b[0mstart\u001b[0m\u001b[0;34m(\u001b[0m\u001b[0;34m)\u001b[0m\u001b[0;34m\u001b[0m\u001b[0;34m\u001b[0m\u001b[0m\n",
            "\u001b[0;31mModuleNotFoundError\u001b[0m: No module named 'driverlesscar'",
            "",
            "\u001b[0;31m---------------------------------------------------------------------------\u001b[0;32m\nNOTE: If your import is failing due to a missing package, you can\nmanually install dependencies using either !pip or !apt.\n\nTo view examples of installing some common dependencies, click the\n\"Open Examples\" button below.\n\u001b[0;31m---------------------------------------------------------------------------\u001b[0m\n"
          ],
          "errorDetails": {
            "actions": [
              {
                "action": "open_url",
                "actionText": "Open Examples",
                "url": "/notebooks/snippets/importing_libraries.ipynb"
              }
            ]
          }
        }
      ]
    }
  ]
}