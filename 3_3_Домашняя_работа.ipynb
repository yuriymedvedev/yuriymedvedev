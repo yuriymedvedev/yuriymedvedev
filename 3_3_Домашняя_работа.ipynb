{
  "nbformat": 4,
  "nbformat_minor": 0,
  "metadata": {
    "colab": {
      "provenance": [],
      "include_colab_link": true
    },
    "kernelspec": {
      "name": "python3",
      "display_name": "Python 3"
    },
    "language_info": {
      "name": "python"
    }
  },
  "cells": [
    {
      "cell_type": "markdown",
      "metadata": {
        "id": "view-in-github",
        "colab_type": "text"
      },
      "source": [
        "<a href=\"https://colab.research.google.com/github/yuriymedvedev/yuriymedvedev/blob/main/3_3_%D0%94%D0%BE%D0%BC%D0%B0%D1%88%D0%BD%D1%8F%D1%8F_%D1%80%D0%B0%D0%B1%D0%BE%D1%82%D0%B0.ipynb\" target=\"_parent\"><img src=\"https://colab.research.google.com/assets/colab-badge.svg\" alt=\"Open In Colab\"/></a>"
      ]
    },
    {
      "cell_type": "markdown",
      "source": [
        "## Задача 1. Собачий возраст."
      ],
      "metadata": {
        "id": "3ZTqsA3QAdNT"
      }
    },
    {
      "cell_type": "markdown",
      "source": [
        "**Условие.** Считается, что один год, прожитый собакой, эквивалентен семи человеческим годам. При этом зачастую не учитывается, что собаки становятся\n",
        "абсолютно взрослыми уже к двум годам. Таким образом, многие предпочитают каждый из первых двух лет жизни собаки приравнивать к 10,5 года человеческой жизни, а все последующие – к четырем.\n",
        "Напишите программу, которая будет переводить человеческий возраст в  собачий с  учетом указанной выше логики. Убедитесь, что программа\n",
        "корректно работает при пересчете возраста собаки меньше и больше двух лет. Также программа должна выводить сообщение об ошибке, если пользователь ввел отрицательное число, либо не числовое значение.\n"
      ],
      "metadata": {
        "id": "h0qekVbbAdNU"
      }
    },
    {
      "cell_type": "code",
      "source": [
        "def to_people_year(dog_year):\n",
        "    to_people_year = 0\n",
        "\n",
        "    if dog_year <= 0:\n",
        "        to_people_year = 0\n",
        "    elif dog_year <= 2:\n",
        "        to_people_year = dog_year * 10.5\n",
        "    else:\n",
        "        to_people_year = (2 * 10.5) + ((dog_year - 2) * 4)\n",
        "        return (to_people_year)\n",
        "\n",
        "dog_year = int(input('Введите возвраст собаки: '))\n",
        "\n",
        "if dog_year <= 0:\n",
        "    print('Введите значение больше 0')\n",
        "else:\n",
        "    print(f'Собачий возвраст: {dog_year}, человеческий возвраст: {to_people_year(dog_year)}')"
      ],
      "metadata": {
        "id": "4U_MTic1AdNU",
        "colab": {
          "base_uri": "https://localhost:8080/"
        },
        "outputId": "e5115415-5ff7-45c4-9cf7-06d9ead42163"
      },
      "execution_count": 2,
      "outputs": [
        {
          "output_type": "stream",
          "name": "stdout",
          "text": [
            "Введите возвраст собаки: 77\n",
            "Собачий возвраст: 77, человеческий возвраст: 321.0\n"
          ]
        }
      ]
    },
    {
      "cell_type": "markdown",
      "source": [
        "## Задача 2. Какого цвета клетка?"
      ],
      "metadata": {
        "id": "WOelnSN-AdVJ"
      }
    },
    {
      "cell_type": "markdown",
      "source": [
        "**Условие.** Клетки на шахматной доске идентифицируются буквой и цифрой. Буква определяет положение клетки по горизонтали, а цифра – по вертикали, как показано на рисунке.\n",
        "\n",
        "![image.png](data:image/png;base64,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)\n",
        "\n",
        "Ваша программа должна запрашивать у пользователя координаты клетки. Используйте условное выражение для определения того, с какой клетки – белой или черной – начинается столбец. Затем при помощи обычной арифметики необходимо определить цвет конкретной клетки. Например, если пользователь ввел a1, программа должна определить, что клетка\n",
        "с этими координатами черная. Если d5 – белая."
      ],
      "metadata": {
        "id": "3eGjbOxrAdVK"
      }
    },
    {
      "cell_type": "code",
      "source": [
        "def getColorCell(letter, digit):\n",
        "    chessDigits = range(1, 9)\n",
        "    chessLetters = ['a', 'b', 'c', 'd', 'e', 'f', 'g', 'h']\n",
        "\n",
        "    if letter not in chessLetters:\n",
        "        print (\"Буква %-1s не обнаружен на доске. Используйте значение A-H\" % letter)\n",
        "    elif digit not in  chessDigits:\n",
        "        print(\"Индекс %5d выход за границы доски. Используйте значения 1-8\" % digit)\n",
        "    else:\n",
        "        letter_index = chessLetters.index(letter)\n",
        "        digit_index = chessDigits.index(digit)\n",
        "        if letter_index % 2 == digit_index % 2 :\n",
        "            print(\"black\")\n",
        "        else:\n",
        "            print(\"white\")\n",
        "\n",
        "chessLetter = input(\"Введите букву -> \").lower()\n",
        "digit = int(input(\"Ввидите цифру -> \"))\n",
        "getColorCell(chessLetter, digit)"
      ],
      "metadata": {
        "id": "dJYXdZOmAdVK",
        "colab": {
          "base_uri": "https://localhost:8080/"
        },
        "outputId": "7e40ce2a-2b7a-4845-8804-3e7b9ab12a7f"
      },
      "execution_count": 1,
      "outputs": [
        {
          "output_type": "stream",
          "name": "stdout",
          "text": [
            "Введите букву -> e\n",
            "Ввидите цифру -> 5\n",
            "black\n"
          ]
        }
      ]
    },
    {
      "cell_type": "markdown",
      "source": [
        "## Задача 3. Игра Fizz-Buzz."
      ],
      "metadata": {
        "id": "XOyY1qnfAc8A"
      }
    },
    {
      "cell_type": "markdown",
      "source": [
        "**Условие.** Fizz-Buzz  – это известная игра, помогающая детям освоить в  игровой форме правила деления. Участники садятся в круг, чтобы игра теоретически могла продолжаться бесконечно. Первый игрок говорит «Один» и передает ход тому, кто слева. Каждый следующий игрок должен мысленно прибавить к предыдущему числу единицу и произнести либо его, либо одно из ключевых слов: Fizz, если число без остатка делится на три, или Buzz, если на пять. Если соблюдаются оба этих условия, он произносит Fizz-Buzz. Игрок, не сумевший сказать правильное слово, выбывает из игры. Последний оставшийся игрок признается победителем.\n",
        "Разработайте программу, реализующую алгоритм игры Fizz-Buzz применительно к  первым 100 числам. Каждый следующий ответ должен отображаться на новой строке."
      ],
      "metadata": {
        "id": "KxclOyAZAc8B"
      }
    },
    {
      "cell_type": "code",
      "source": [
        "def getFizzBuzz(digit):\n",
        "    if digit % 3 == 0 and digit % 5 == 0:\n",
        "        print(\"%5d - Fizz-Buzz\" % digit)\n",
        "    elif digit % 3 == 0:\n",
        "        print(\"%5d - Fizz\" % digit)\n",
        "    elif digit % 5 == 0:\n",
        "        print(\"%5d - Buzz\" % digit)\n",
        "    else:\n",
        "        print(\"% 5d - \" % digit)\n",
        "\n",
        "\n",
        "for i in range (1,101):\n",
        "    getFizzBuzz(i)\n",
        ""
      ],
      "metadata": {
        "id": "Ju8EWcQ7Ac8C",
        "colab": {
          "base_uri": "https://localhost:8080/"
        },
        "outputId": "ac8048ba-635c-45b1-b739-be204d1cbac4"
      },
      "execution_count": 4,
      "outputs": [
        {
          "output_type": "stream",
          "name": "stdout",
          "text": [
            "    1 - \n",
            "    2 - \n",
            "    3 - Fizz\n",
            "    4 - \n",
            "    5 - Buzz\n",
            "    6 - Fizz\n",
            "    7 - \n",
            "    8 - \n",
            "    9 - Fizz\n",
            "   10 - Buzz\n",
            "   11 - \n",
            "   12 - Fizz\n",
            "   13 - \n",
            "   14 - \n",
            "   15 - Fizz-Buzz\n",
            "   16 - \n",
            "   17 - \n",
            "   18 - Fizz\n",
            "   19 - \n",
            "   20 - Buzz\n",
            "   21 - Fizz\n",
            "   22 - \n",
            "   23 - \n",
            "   24 - Fizz\n",
            "   25 - Buzz\n",
            "   26 - \n",
            "   27 - Fizz\n",
            "   28 - \n",
            "   29 - \n",
            "   30 - Fizz-Buzz\n",
            "   31 - \n",
            "   32 - \n",
            "   33 - Fizz\n",
            "   34 - \n",
            "   35 - Buzz\n",
            "   36 - Fizz\n",
            "   37 - \n",
            "   38 - \n",
            "   39 - Fizz\n",
            "   40 - Buzz\n",
            "   41 - \n",
            "   42 - Fizz\n",
            "   43 - \n",
            "   44 - \n",
            "   45 - Fizz-Buzz\n",
            "   46 - \n",
            "   47 - \n",
            "   48 - Fizz\n",
            "   49 - \n",
            "   50 - Buzz\n",
            "   51 - Fizz\n",
            "   52 - \n",
            "   53 - \n",
            "   54 - Fizz\n",
            "   55 - Buzz\n",
            "   56 - \n",
            "   57 - Fizz\n",
            "   58 - \n",
            "   59 - \n",
            "   60 - Fizz-Buzz\n",
            "   61 - \n",
            "   62 - \n",
            "   63 - Fizz\n",
            "   64 - \n",
            "   65 - Buzz\n",
            "   66 - Fizz\n",
            "   67 - \n",
            "   68 - \n",
            "   69 - Fizz\n",
            "   70 - Buzz\n",
            "   71 - \n",
            "   72 - Fizz\n",
            "   73 - \n",
            "   74 - \n",
            "   75 - Fizz-Buzz\n",
            "   76 - \n",
            "   77 - \n",
            "   78 - Fizz\n",
            "   79 - \n",
            "   80 - Buzz\n",
            "   81 - Fizz\n",
            "   82 - \n",
            "   83 - \n",
            "   84 - Fizz\n",
            "   85 - Buzz\n",
            "   86 - \n",
            "   87 - Fizz\n",
            "   88 - \n",
            "   89 - \n",
            "   90 - Fizz-Buzz\n",
            "   91 - \n",
            "   92 - \n",
            "   93 - Fizz\n",
            "   94 - \n",
            "   95 - Buzz\n",
            "   96 - Fizz\n",
            "   97 - \n",
            "   98 - \n",
            "   99 - Fizz\n",
            "  100 - Buzz\n"
          ]
        }
      ]
    },
    {
      "cell_type": "markdown",
      "source": [
        "## Задача 4. Избавляемся от дубликатов."
      ],
      "metadata": {
        "id": "wgQ1jjSFAcx4"
      }
    },
    {
      "cell_type": "markdown",
      "source": [
        "**Условие.** В данном упражнении вам предстоит разработать программу, в которой у  пользователя будет запрошен список слов, пока он не оставит строку ввода пустой. После этого на экране должны быть показаны слова, введенные пользователем, но без повторов, – каждое по одному разу. При этом\n",
        "слова должны быть отображены в том же порядке, в  каком их вводили с клавиатуры. Например, если пользователь на запрос программы введет следующий список слов:\n",
        "```\n",
        "first\n",
        "second\n",
        "first\n",
        "third\n",
        "second\n",
        "```\n",
        "программа должна вывести:\n",
        "```\n",
        "first\n",
        "second\n",
        "third\n",
        "```"
      ],
      "metadata": {
        "id": "92iWI-qmAcx4"
      }
    },
    {
      "cell_type": "code",
      "source": [
        "stopInput = False\n",
        "words = []\n",
        "\n",
        "while not stopInput:\n",
        "    word = input (\"Ввидите слово - > \")\n",
        "    if len (word) == 0:\n",
        "        stopInput = True\n",
        "    else:\n",
        "        words.append(word)\n",
        "\n",
        "uniq_words = []\n",
        "for word in words:\n",
        "    if word not in uniq_words:\n",
        "        uniq_words.append(word)\n",
        "        print(word)"
      ],
      "metadata": {
        "id": "5AwCxxTHAcx5",
        "colab": {
          "base_uri": "https://localhost:8080/"
        },
        "outputId": "bc0d6e69-2b42-4c94-f147-a8a3cfae779e"
      },
      "execution_count": 5,
      "outputs": [
        {
          "output_type": "stream",
          "name": "stdout",
          "text": [
            "Ввидите слово - > aa\n",
            "Ввидите слово - > bb\n",
            "Ввидите слово - > cc\n",
            "Ввидите слово - > dd\n",
            "Ввидите слово - > \n",
            "aa\n",
            "bb\n",
            "cc\n",
            "dd\n"
          ]
        }
      ]
    },
    {
      "cell_type": "markdown",
      "source": [
        "## Задача 5. Ниже и выше среднего."
      ],
      "metadata": {
        "id": "AbSoL3XYQacd"
      }
    },
    {
      "cell_type": "markdown",
      "source": [
        "**Условие.** Напишите программу, которая будет запрашивать у  пользователя числа, пока не будет введена пустая строка. Сначала на экран должно быть выведено среднее значение введенного ряда чисел, после этого друг за другом необходимо вывести список чисел ниже среднего, равных ему (если такие\n",
        "найдутся) и выше среднего. Каждый список должен предваряться соответствующим заголовком.\n"
      ],
      "metadata": {
        "id": "IG1nr4e1Qaco"
      }
    },
    {
      "cell_type": "code",
      "source": [
        "def getBelowAvr(arr, avrValue):\n",
        "    sorted(arr)\n",
        "    belowArr = []\n",
        "\n",
        "    for i in range(0, len(arr)):\n",
        "        if arr[i] < avrValue:\n",
        "            belowArr.append(arr[i])\n",
        "        else:\n",
        "            return belowArr\n",
        "\n",
        "    return belowArr\n",
        "\n",
        "def getAboveAvr(arr, avrValue):\n",
        "    sorted(arr)\n",
        "    belowArr = []\n",
        "\n",
        "    for i in range(0, len(arr)):\n",
        "        if arr[i] > avrValue:\n",
        "            belowArr.append(arr[i])\n",
        "\n",
        "    return belowArr\n",
        "\n",
        "def getEqualAvr(arr, avrValue):\n",
        "    arrEqual = []\n",
        "    for i in range(0, len(arr)):\n",
        "        if arr[i] == avrValue:\n",
        "            arrEqual.append(arr[i])\n",
        "\n",
        "    return arrEqual\n",
        "\n",
        "stopInput = False\n",
        "arr = []\n",
        "\n",
        "\n",
        "while not stopInput:\n",
        "    digit = input(\"Введите число -> \")\n",
        "    if len(digit) == 0:\n",
        "        stopInput = True\n",
        "    else:\n",
        "        arr.append(int(digit))\n",
        "\n",
        "if len(arr) == 0:\n",
        "    exit\n",
        "\n",
        "avrSumArr = sum(arr)/len(arr)\n",
        "\n",
        "print(getBelowAvr(arr, avrSumArr))\n",
        "print(getEqualAvr(arr, avrSumArr))\n",
        "print(getAboveAvr(arr, avrSumArr))"
      ],
      "metadata": {
        "id": "7vaJPZhTQaco",
        "colab": {
          "base_uri": "https://localhost:8080/"
        },
        "outputId": "a3bddc1e-bc73-474a-9b9d-3fb97d53c11c"
      },
      "execution_count": 9,
      "outputs": [
        {
          "output_type": "stream",
          "name": "stdout",
          "text": [
            "Введите число -> 5\n",
            "Введите число -> 10\n",
            "Введите число -> 15\n",
            "Введите число -> 20\n",
            "Введите число -> 25\n",
            "Введите число -> \n",
            "[5, 10]\n",
            "[15]\n",
            "[20, 25]\n"
          ]
        }
      ]
    },
    {
      "cell_type": "markdown",
      "source": [
        "## Задача 6. Решето Эратосфена."
      ],
      "metadata": {
        "id": "cvUlq936Qbub"
      }
    },
    {
      "cell_type": "markdown",
      "source": [
        "**Условие.** Решето Эратосфена – алгоритм, изобретенный более 2000 лет назад и служащий для нахождения всех простых чисел от 2 до некоторого целого числа n. Ваше решение должно начинаться с предложения пользователю ввести число, до которого необходимо вывести простые числа. Описание этого алгоритма приведено ниже.\n",
        "```\n",
        "Выписываем все целые числа от 0 до заданной границы\n",
        "Вычеркиваем 0 и 1 как непростые числа\n",
        "Устанавливаем значение переменной p, равное 2\n",
        "Пока p меньше указанного числа, делать\n",
        " Вычеркиваем все числа, кратные p, но не его само\n",
        " Устанавливаем значение p, равное следующему невычеркнутому числу\n",
        "Выводим все числа, оставшиеся незачеркнутыми\n",
        "```\n",
        "\n",
        "Ценность данного алгоритма заключается в том, что на бумаге очень легко вычеркнуть все числа, кратные определенному. Для компьютера это также не самая сложная задача – с этим может прекрасно справиться инструкция for с третьим параметром, переданным функции range. Мы знаем, что вычеркнутые числа на листочке не являются простыми, но физически они никуда с листа не деваются и должны участвовать в дальнейшем алгоритме. Так что и в компьютерной симуляции не стоит «вычеркивать» элемент путем его удаления из списка – вместо этого лучше\n",
        "будет присвоить ему значение 0. После завершения алгоритма все ненулевые числа в списке и будут простыми.\n",
        "Напишите программу на Python, реализующую указанный выше алгоритм для отображения простых чисел в интервале от двух до значения, введенного пользователем. Если алгоритм будет реализован правильно, ваша программа справится с выводом всех простых чисел от двух до миллиона всего за пару секунд."
      ],
      "metadata": {
        "id": "eONtOCDwQbub"
      }
    },
    {
      "cell_type": "markdown",
      "source": [
        "> **Примечание.** Приведенный в данном упражнении алгоритм поиска простых чисел, названный в честь Эратосфена, был далеко не единственным вкладом греческого математика в науку. Ему также приписывают вычисление длины окружности Земли\n",
        "и градус наклона ее оси. Кроме того, с 235 г. до н. э. он служил хранителем знаменитой Александрийской библиотеки."
      ],
      "metadata": {
        "id": "BUNWREIfWfIW"
      }
    },
    {
      "cell_type": "code",
      "source": [
        "def getPrimeNumbers(digit):\n",
        "    a=[]\n",
        "    b=[]\n",
        "    if digit < 4:\n",
        "        return\n",
        "    for i in range(2, digit + 1, 1):\n",
        "        a.append(i)\n",
        "\n",
        "    while a:\n",
        "        for i in a[1:]:\n",
        "            if i % a[0] == 0:\n",
        "                b.append(i)\n",
        "                a.remove(i)\n",
        "        a = a[1:]\n",
        "\n",
        "    for i in b:\n",
        "        print(i, end=\" \")\n",
        "\n",
        "digit = int(input(\"Введите число -> \"))\n",
        "getPrimeNumbers(digit)"
      ],
      "metadata": {
        "id": "qKeEh9AyQbuc",
        "colab": {
          "base_uri": "https://localhost:8080/"
        },
        "outputId": "41ac14a0-5e09-4833-8dca-6175752f208c"
      },
      "execution_count": 7,
      "outputs": [
        {
          "output_type": "stream",
          "name": "stdout",
          "text": [
            "Введите число -> 35\n",
            "4 6 8 10 12 14 16 18 20 22 24 26 28 30 32 34 9 15 21 27 33 25 35 "
          ]
        }
      ]
    },
    {
      "cell_type": "markdown",
      "source": [
        "## Задача 7. Эрудит."
      ],
      "metadata": {
        "id": "mIKDYrmOQcKR"
      }
    },
    {
      "cell_type": "markdown",
      "source": [
        "**Условие.** В известной игре Эрудит (Scrabble) каждой букве соответствует определенное количество очков. Общая сумма очков, которую получает игрок,\n",
        "составивший это слово, складывается из очков за каждую букву, входящую\n",
        "в его состав. Чем более употребимой является буква в языке, тем меньше\n",
        "очков начисляется за ее использование. Напишите программу, рассчитывающую и отображающую количество очков за собранное слово. Создайте словарь для хранения соответствий между буквами и очками и используйте его в своем решении.\n",
        "Система очков в игре Эрудит:\n",
        "  * 1  - A, E, I, L, N, O, R, S, T и U\n",
        "  * 2  - D и G\n",
        "  * 3  - B, C, M и P\n",
        "  * 4  - F, H, V, W и Y\n",
        "  * 5  - K\n",
        "  * 8  - J и X\n",
        "  * 10 - Q и Z"
      ],
      "metadata": {
        "id": "kCho9pK5YqNx"
      }
    },
    {
      "cell_type": "code",
      "source": [
        "charOnePoint = ['a', 'e', 'i', 'l', 'n', 'o', 'r', 's', 't', 'u']\n",
        "charTwoPoint = ['d', 'g']\n",
        "charThreePoint = ['b', 'c', 'm', 'p']\n",
        "charFourPoint = ['f', 'h', 'v', 'w', 'y']\n",
        "charFivePoint = ['k']\n",
        "charEightPoint = ['j', 'x']\n",
        "charTenPoint = ['q', 'z']\n",
        "\n",
        "dictErudit = {1: charOnePoint,\n",
        "              2: charTwoPoint,\n",
        "              3: charThreePoint,\n",
        "              4: charFourPoint,\n",
        "              5: charFivePoint,\n",
        "              8: charEightPoint,\n",
        "              10: charTenPoint}\n",
        "\n",
        "def getPointsWord(letter):\n",
        "    if len(letter) == 0:\n",
        "        return 0\n",
        "    else:\n",
        "        for key, value in dictErudit.items():\n",
        "            if letter in value:\n",
        "                return key\n",
        "\n",
        "\n",
        "letter = input(\"Введите слово -> \").lower()\n",
        "sumPoints = 0\n",
        "if len(letter) == 0:\n",
        "    exit\n",
        "\n",
        "char_arr = list(letter)\n",
        "for charArr in char_arr:\n",
        "    sumPoints += getPointsWord(charArr)\n",
        "\n",
        "print(f\"Сумма очков за слово {letter} - {sumPoints}\")\n"
      ],
      "metadata": {
        "id": "-Fa30-d5Z0Fo",
        "colab": {
          "base_uri": "https://localhost:8080/"
        },
        "outputId": "6289ea2f-4ec7-4a65-f39a-645b030f4d81"
      },
      "execution_count": 11,
      "outputs": [
        {
          "output_type": "stream",
          "name": "stdout",
          "text": [
            "Введите слово -> absqw\n",
            "Сумма очков за слово absqw - 19\n"
          ]
        }
      ]
    }
  ]
}