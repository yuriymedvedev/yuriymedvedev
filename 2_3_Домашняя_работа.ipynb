{
  "nbformat": 4,
  "nbformat_minor": 0,
  "metadata": {
    "colab": {
      "provenance": [],
      "include_colab_link": true
    },
    "kernelspec": {
      "name": "python3",
      "display_name": "Python 3"
    },
    "language_info": {
      "name": "python"
    }
  },
  "cells": [
    {
      "cell_type": "markdown",
      "metadata": {
        "id": "view-in-github",
        "colab_type": "text"
      },
      "source": [
        "<a href=\"https://colab.research.google.com/github/yuriymedvedev/yuriymedvedev/blob/main/2_3_%D0%94%D0%BE%D0%BC%D0%B0%D1%88%D0%BD%D1%8F%D1%8F_%D1%80%D0%B0%D0%B1%D0%BE%D1%82%D0%B0.ipynb\" target=\"_parent\"><img src=\"https://colab.research.google.com/assets/colab-badge.svg\" alt=\"Open In Colab\"/></a>"
      ]
    },
    {
      "cell_type": "markdown",
      "source": [
        "**Навигация по уроку**\n",
        "\n",
        "1. [Введение в Python. Синтаксис](https://colab.research.google.com/drive/1YBLgd6tZYlkhwpnEc4IM8tVnewLUnlUO#scrollTo=yqZjRAldfz_L)\n",
        "2. [Практика](https://colab.research.google.com/drive/1m-Ph90c-9S_gZchdG1ARoY2YjMTryKkl#scrollTo=UdxWiGmA63K2)\n",
        "3. Домашняя работа"
      ],
      "metadata": {
        "id": "ARGgA85EgS0p"
      }
    },
    {
      "cell_type": "markdown",
      "source": [
        "В домашней работе необходимо, используя знания теоретической части занятия и полученные практические навыки, решить, представленные ниже задачи. Для этого необходимо скопировать Блокнот (см. раздел 1.1.), решить в нем все задач, открыть общий доступ к Блокноту ((см. раздел 1.1.) и отправить ссылку на Блокнот куратору на проверку. Желаем удачи!"
      ],
      "metadata": {
        "id": "EdiQPIVgklWr"
      }
    },
    {
      "cell_type": "markdown",
      "source": [
        "## Задача 1. Приветствие."
      ],
      "metadata": {
        "id": "ZzjUAyrL6jgO"
      }
    },
    {
      "cell_type": "markdown",
      "source": [
        "**Условие.** Напишите программу, запрашивающую у пользователя его имя. В ответ\n",
        "на ввод на экране должно появиться приветствие с обращением по имени,\n",
        "введенному с клавиатуры ранее.\n"
      ],
      "metadata": {
        "id": "M4OAOB6s6mU7"
      }
    },
    {
      "cell_type": "code",
      "source": [
        "#Запрос имени\n",
        "name= input(\"Как ваше имя: \")\n",
        "both = \"привет!\" + \" \" + name\n",
        "print(both)"
      ],
      "metadata": {
        "id": "C2W-ZDOF6mzF",
        "outputId": "2fcbd934-8803-4fc3-e3b6-edbcfff1cb2e",
        "colab": {
          "base_uri": "https://localhost:8080/"
        }
      },
      "execution_count": 75,
      "outputs": [
        {
          "output_type": "stream",
          "name": "stdout",
          "text": [
            "Как ваше имя: Юрий\n",
            "привет! Юрий\n"
          ]
        }
      ]
    },
    {
      "cell_type": "markdown",
      "source": [
        "## Задача 2. Сувениры и безделушки."
      ],
      "metadata": {
        "id": "UG8mwj2-eALV"
      }
    },
    {
      "cell_type": "markdown",
      "source": [
        "**Условие.** Интернет-магазин занимается продажей различных сувениров и безделушек. Каждый сувенир весит 75 г, а безделушка – 112 г. Напишите программу, запрашивающую у пользователя количество тех и других покупок,\n",
        "после чего выведите на экран общий вес посылки.\n"
      ],
      "metadata": {
        "id": "ay2EfeBreALW"
      }
    },
    {
      "cell_type": "code",
      "source": [
        "countBezd = input(\"Введите количество безделушек: \")\n",
        "countSuvenir = input(\"Введите количество сувенировr: \")\n",
        "weightBezd = float(countBezd) * 0.075\n",
        "weightSuvenir = float(countSuvenir) * 0.112\n",
        "totalWeight = weightBezd + weightSuvenir\n",
        "print(\"Общий вес посылки: %.3f\" % totalWeight)\n"
      ],
      "metadata": {
        "id": "WY-KRVHyeALX",
        "outputId": "76095540-bcb1-4ff5-9bce-13f2b85b9ec5",
        "colab": {
          "base_uri": "https://localhost:8080/"
        }
      },
      "execution_count": 76,
      "outputs": [
        {
          "output_type": "stream",
          "name": "stdout",
          "text": [
            "Введите количество безделушек: 5\n",
            "Введите количество сувенировr: 9\n",
            "Общий вес посылки: 1.383\n"
          ]
        }
      ]
    },
    {
      "cell_type": "markdown",
      "source": [
        "## Задача 3. Сложные проценты"
      ],
      "metadata": {
        "id": "v2IXqDTVeBfM"
      }
    },
    {
      "cell_type": "markdown",
      "source": [
        "**Условие.** Представьте, что вы открыли в банке сберегательный счет под 4 % годовых. Проценты банк рассчитывает в конце года и добавляет к сумме счета.\n",
        "Напишите программу, которая запрашивает у пользователя сумму первоначального депозита, после чего рассчитывает и выводит на экран сумму\n",
        "на счету в конце первого, второго и третьего годов. Все суммы должны\n",
        "быть округлены до двух знаков после запятой.\n",
        "\n"
      ],
      "metadata": {
        "id": "rGE3sh2ueBfN"
      }
    },
    {
      "cell_type": "code",
      "source": [
        "deposit = float(input(\"Введите сумму депозита: \"))\n",
        "STAVKA = 4\n",
        "firstYear = deposit + (deposit*STAVKA)/100\n",
        "secondYear = firstYear + (firstYear*STAVKA)/100\n",
        "thirdYear = secondYear + (secondYear*STAVKA)/100\n",
        "print(\"Первый год: %.2f \\nВторой год: %2.f \\nТретий год: %2.f\" % (firstYear, secondYear , thirdYear))"
      ],
      "metadata": {
        "id": "0DYIIu98eBfN",
        "outputId": "9d49bbb2-35d0-46ff-a51b-c46326c0e452",
        "colab": {
          "base_uri": "https://localhost:8080/"
        }
      },
      "execution_count": 77,
      "outputs": [
        {
          "output_type": "stream",
          "name": "stdout",
          "text": [
            "Введите сумму депозита: 470\n",
            "Первый год: 488.80 \n",
            "Второй год: 508 \n",
            "Третий год: 529\n"
          ]
        }
      ]
    },
    {
      "cell_type": "markdown",
      "source": [
        "## Задача 4. Арифметика"
      ],
      "metadata": {
        "id": "d9y6YzAvuW4l"
      }
    },
    {
      "cell_type": "markdown",
      "source": [
        "**Условие.** Создайте программу, которая запрашивает у пользователя два целых числа a и b, после чего выводит на экран результаты следующих математических операций:\n",
        "* сумма a и b;\n",
        "* разница между a и b;\n",
        "* произведение a и b;\n",
        "* частное от деления a на b;\n",
        "* остаток от деления a на b;\n",
        "* десятичный логарифм числа a;\n",
        "* результат возведения числа a в степень b."
      ],
      "metadata": {
        "id": "ZeZZ2IrUuW4m"
      }
    },
    {
      "cell_type": "code",
      "source": [
        "import math\n",
        "\n",
        "a = int(input(\"Введите число a: \"))\n",
        "b = int(input(\"Введите число b: \"))\n",
        "\n",
        "print(\"Сумма %d и %d = %d\" % (a, b, a+b))\n",
        "print(\"Разница межжу %d и %d = %d\" % (a, b, a-b))\n",
        "print(\"Произведение %d и %d = %d\" % (a, b, a*b))\n",
        "print(\"Частное деление %d на %d = %d\" % (a, b, a/b))\n",
        "print(\"Остаток от деления %d на %d = %d\" % (a, b, a%b))\n",
        "print(\"Десятичный логарифм числа %d = %d\" % (a, math.log10(a)))\n",
        "print(\"Результат возведения числа %d в степень %d = %d\" % (a, b, math.pow(a, b)))\n"
      ],
      "metadata": {
        "id": "gCbjinmpuW4m",
        "outputId": "f9c3dfe4-ab1f-4031-f988-a292fd75df16",
        "colab": {
          "base_uri": "https://localhost:8080/"
        }
      },
      "execution_count": 78,
      "outputs": [
        {
          "output_type": "stream",
          "name": "stdout",
          "text": [
            "Введите число a: 9\n",
            "Введите число b: 8\n",
            "Сумма 9 и 8 = 17\n",
            "Разница межжу 9 и 8 = 1\n",
            "Произведение 9 и 8 = 72\n",
            "Частное деление 9 на 8 = 1\n",
            "Остаток от деления 9 на 8 = 1\n",
            "Десятичный логарифм числа 9 = 0\n",
            "Результат возведения числа 9 в степень 8 = 43046721\n"
          ]
        }
      ]
    },
    {
      "cell_type": "markdown",
      "source": [
        "## Задача 5. Размен"
      ],
      "metadata": {
        "id": "EcSSCSnpeBto"
      }
    },
    {
      "cell_type": "markdown",
      "source": [
        "**Условие.** Представьте, что вы пишете программное обеспечение для автоматической кассы в  магазине самообслуживания. Одной из функций, заложенных в кассу, должен быть расчет сдачи в случае оплаты покупателем наличными.\n",
        "Напишите программу, которая будет запрашивать у пользователя сумму сдачи в копейках. После этого она должна рассчитать и вывести на экран, сколько и каких монет потребуется для выдачи указанной суммы, при условии что должно быть задействовано минимально возможное количество монет. Допустим, у нас есть в распоряжении монеты достоинством в 1, 5, 10, 50 копеек, а также в 1, 2 и 5 рублей.\n"
      ],
      "metadata": {
        "id": "VfX5FQQreBtp"
      }
    },
    {
      "cell_type": "code",
      "source": [
        "#программа, которая запрашивает у пользователя сумму сдачи в копейках.\n",
        "#5rub = 500 копеек\n",
        "#2rub = 200 копеек\n",
        "#1rub = 100 копеек\n",
        "trifle1 = 500\n",
        "trifle2 = 200\n",
        "trifle3 = 100\n",
        "trifle4 = 50\n",
        "trifle5 = 10\n",
        "trifle6 = 5\n",
        "trifle7 = 1\n",
        "Change = int(input(\"Сумма сдачи в копейках: \"))\n",
        "сдачаНоминалом500=Change//trifle1\n",
        "значение1=(Change%trifle1)\n",
        "print(сдачаНоминалом500,\"монет\", \"сдача номиналом 5руб\" )\n",
        "сдачаНоминалом200=значение1//trifle2\n",
        "значение2=(значение1%trifle2)\n",
        "print(сдачаНоминалом200,\"монет\", \"сдача номиналом 2руб\" )\n",
        "сдачаНоминалом100=значение2//trifle3\n",
        "значение3=(значение2%trifle3)\n",
        "print(сдачаНоминалом100,\"монет\", \"сдача номиналом 1руб\" )\n",
        "сдачаНоминалом50=значение3//trifle4\n",
        "значение4=(значение3%trifle4)\n",
        "print(сдачаНоминалом50,\"монет\", \"сдача номиналом 50коп\" )\n",
        "сдачаНоминалом10=значение4//trifle5\n",
        "значение5=(значение4%trifle5)\n",
        "print(сдачаНоминалом10,\"монет\", \"сдача номиналом 10коп\" )\n",
        "сдачаНоминалом5=значение5//trifle6\n",
        "значение6=(значение5%trifle6)\n",
        "print(сдачаНоминалом5,\"монет\", \"сдача номиналом 5коп\" )\n",
        "сдачаНоминалом1=значение6//trifle7\n",
        "значение7=(значение6%trifle7)\n",
        "print(сдачаНоминалом1,\"монет\", \"сдача номиналом 1коп\" )\n"
      ],
      "metadata": {
        "id": "4ecMH2bjeBtp",
        "outputId": "cd0faec2-e937-4b2e-876f-cf885497bf48",
        "colab": {
          "base_uri": "https://localhost:8080/"
        }
      },
      "execution_count": 79,
      "outputs": [
        {
          "output_type": "stream",
          "name": "stdout",
          "text": [
            "Сумма сдачи в копейках: 606\n",
            "1 монет сдача номиналом 5руб\n",
            "0 монет сдача номиналом 2руб\n",
            "1 монет сдача номиналом 1руб\n",
            "0 монет сдача номиналом 50коп\n",
            "0 монет сдача номиналом 10коп\n",
            "1 монет сдача номиналом 5коп\n",
            "1 монет сдача номиналом 1коп\n"
          ]
        }
      ]
    },
    {
      "cell_type": "code",
      "source": [],
      "metadata": {
        "id": "MW2BNmZ9v1l7"
      },
      "execution_count": null,
      "outputs": []
    },
    {
      "cell_type": "markdown",
      "source": [
        "## Задача 6. Вчерашний хлеб"
      ],
      "metadata": {
        "id": "26soP3cfeB8i"
      }
    },
    {
      "cell_type": "markdown",
      "source": [
        "**Условие.** Пекарня продает хлеб по 49 рублей за буханку. Скидка на вчерашний хлеб составляет 60 %. Напишите программу, которая будет запрашивать у пользователя количество приобретенных вчерашних буханок хлеба. В вывод на экран должны быть включены обычная цена за буханку, цена со скидкой и общая стоимость приобретенного хлеба. Все значения должны быть выведены на отдельных строках с соответствующими описаниями. Используйте для вывода формат с двумя знаками после запятой и 5-ю знакоместами.\n"
      ],
      "metadata": {
        "id": "t-cYNmWQeB8i"
      }
    },
    {
      "cell_type": "code",
      "source": [
        "PRICE = 49\n",
        "DISCOUNT = 60\n",
        "priceWithDiscount = PRICE - ((PRICE * DISCOUNT) / 100)\n",
        "\n",
        "countProduct = float(input(\"Введите количество вчерашниъ буханок: \"))\n",
        "\n",
        "print(\"Обычная цена: %5.2f\\nЦена со скидкой: %5.2f\\nСтоимость приобретенного хлеба: %5.2f\" % (PRICE, priceWithDiscount, priceWithDiscount*countProduct))"
      ],
      "metadata": {
        "id": "R2-WoQoveB8j",
        "outputId": "2b17d950-b9b4-4c8e-bafc-af92d043994e",
        "colab": {
          "base_uri": "https://localhost:8080/"
        }
      },
      "execution_count": 80,
      "outputs": [
        {
          "output_type": "stream",
          "name": "stdout",
          "text": [
            "Введите количество вчерашниъ буханок: 10\n",
            "Обычная цена: 49.00\n",
            "Цена со скидкой: 19.60\n",
            "Стоимость приобретенного хлеба: 196.00\n"
          ]
        }
      ]
    }
  ]
}